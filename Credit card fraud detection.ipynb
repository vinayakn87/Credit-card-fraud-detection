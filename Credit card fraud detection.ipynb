{
 "cells": [
  {
   "cell_type": "markdown",
   "metadata": {},
   "source": [
    "### Introduction\n",
    "The objective of this project was to build a machine learning model to detect fraudulent credit card transactions from given data. The Kaggle dataset used in this notebook can be found [here](https://www.kaggle.com/mlg-ulb/creditcardfraud). We approach the problem from two perspectives, first trying to use tradiotionam ML models which minimize misclassification ignoring the costs and second by trying to minimize the cost while allowing higher missclassfication.\n",
    "Following three methods have been illustrated to explore this:\n",
    "1. Traditional ML models which try to which minimize misclassification\n",
    "2. Cost sensitive classification using Bayes minimum risk classifier\n",
    "3. Threshold optimization to minimize costs"
   ]
  },
  {
   "cell_type": "code",
   "execution_count": 69,
   "metadata": {},
   "outputs": [],
   "source": [
    "#importing libraries\n",
    "\n",
    "import pandas as pd\n",
    "import numpy as np\n",
    "from matplotlib import pyplot as plt\n",
    "import seaborn as sns\n",
    "\n",
    "from sklearn.preprocessing import StandardScaler\n",
    "\n",
    "from sklearn.compose import make_column_transformer\n",
    "from sklearn.pipeline import make_pipeline\n",
    "\n",
    "from sklearn.model_selection import cross_validate, train_test_split\n",
    "from sklearn.ensemble import RandomForestClassifier\n",
    "from sklearn.linear_model import LogisticRegression\n",
    "\n",
    "from sklearn.metrics import f1_score, roc_auc_score, precision_recall_curve"
   ]
  },
  {
   "cell_type": "code",
   "execution_count": 2,
   "metadata": {},
   "outputs": [],
   "source": [
    "data = pd.read_csv('creditcard.csv')"
   ]
  },
  {
   "cell_type": "code",
   "execution_count": 3,
   "metadata": {},
   "outputs": [
    {
     "data": {
      "text/plain": [
       "(284807, 31)"
      ]
     },
     "execution_count": 3,
     "metadata": {},
     "output_type": "execute_result"
    }
   ],
   "source": [
    "data.shape"
   ]
  },
  {
   "cell_type": "code",
   "execution_count": 4,
   "metadata": {
    "scrolled": false
   },
   "outputs": [
    {
     "name": "stdout",
     "output_type": "stream",
     "text": [
      "<class 'pandas.core.frame.DataFrame'>\n",
      "RangeIndex: 284807 entries, 0 to 284806\n",
      "Data columns (total 31 columns):\n",
      " #   Column  Non-Null Count   Dtype  \n",
      "---  ------  --------------   -----  \n",
      " 0   Time    284807 non-null  float64\n",
      " 1   V1      284807 non-null  float64\n",
      " 2   V2      284807 non-null  float64\n",
      " 3   V3      284807 non-null  float64\n",
      " 4   V4      284807 non-null  float64\n",
      " 5   V5      284807 non-null  float64\n",
      " 6   V6      284807 non-null  float64\n",
      " 7   V7      284807 non-null  float64\n",
      " 8   V8      284807 non-null  float64\n",
      " 9   V9      284807 non-null  float64\n",
      " 10  V10     284807 non-null  float64\n",
      " 11  V11     284807 non-null  float64\n",
      " 12  V12     284807 non-null  float64\n",
      " 13  V13     284807 non-null  float64\n",
      " 14  V14     284807 non-null  float64\n",
      " 15  V15     284807 non-null  float64\n",
      " 16  V16     284807 non-null  float64\n",
      " 17  V17     284807 non-null  float64\n",
      " 18  V18     284807 non-null  float64\n",
      " 19  V19     284807 non-null  float64\n",
      " 20  V20     284807 non-null  float64\n",
      " 21  V21     284807 non-null  float64\n",
      " 22  V22     284807 non-null  float64\n",
      " 23  V23     284807 non-null  float64\n",
      " 24  V24     284807 non-null  float64\n",
      " 25  V25     284807 non-null  float64\n",
      " 26  V26     284807 non-null  float64\n",
      " 27  V27     284807 non-null  float64\n",
      " 28  V28     284807 non-null  float64\n",
      " 29  Amount  284807 non-null  float64\n",
      " 30  Class   284807 non-null  int64  \n",
      "dtypes: float64(30), int64(1)\n",
      "memory usage: 67.4 MB\n"
     ]
    }
   ],
   "source": [
    "data.info()"
   ]
  },
  {
   "cell_type": "code",
   "execution_count": 5,
   "metadata": {},
   "outputs": [
    {
     "data": {
      "text/plain": [
       "Time      0\n",
       "V1        0\n",
       "V2        0\n",
       "V3        0\n",
       "V4        0\n",
       "V5        0\n",
       "V6        0\n",
       "V7        0\n",
       "V8        0\n",
       "V9        0\n",
       "V10       0\n",
       "V11       0\n",
       "V12       0\n",
       "V13       0\n",
       "V14       0\n",
       "V15       0\n",
       "V16       0\n",
       "V17       0\n",
       "V18       0\n",
       "V19       0\n",
       "V20       0\n",
       "V21       0\n",
       "V22       0\n",
       "V23       0\n",
       "V24       0\n",
       "V25       0\n",
       "V26       0\n",
       "V27       0\n",
       "V28       0\n",
       "Amount    0\n",
       "Class     0\n",
       "dtype: int64"
      ]
     },
     "execution_count": 5,
     "metadata": {},
     "output_type": "execute_result"
    }
   ],
   "source": [
    "data.isna().sum()"
   ]
  },
  {
   "cell_type": "code",
   "execution_count": 6,
   "metadata": {},
   "outputs": [
    {
     "data": {
      "text/html": [
       "<div>\n",
       "<style scoped>\n",
       "    .dataframe tbody tr th:only-of-type {\n",
       "        vertical-align: middle;\n",
       "    }\n",
       "\n",
       "    .dataframe tbody tr th {\n",
       "        vertical-align: top;\n",
       "    }\n",
       "\n",
       "    .dataframe thead th {\n",
       "        text-align: right;\n",
       "    }\n",
       "</style>\n",
       "<table border=\"1\" class=\"dataframe\">\n",
       "  <thead>\n",
       "    <tr style=\"text-align: right;\">\n",
       "      <th></th>\n",
       "      <th>Time</th>\n",
       "      <th>V1</th>\n",
       "      <th>V2</th>\n",
       "      <th>V3</th>\n",
       "      <th>V4</th>\n",
       "      <th>V5</th>\n",
       "      <th>V6</th>\n",
       "      <th>V7</th>\n",
       "      <th>V8</th>\n",
       "      <th>V9</th>\n",
       "      <th>...</th>\n",
       "      <th>V21</th>\n",
       "      <th>V22</th>\n",
       "      <th>V23</th>\n",
       "      <th>V24</th>\n",
       "      <th>V25</th>\n",
       "      <th>V26</th>\n",
       "      <th>V27</th>\n",
       "      <th>V28</th>\n",
       "      <th>Amount</th>\n",
       "      <th>Class</th>\n",
       "    </tr>\n",
       "  </thead>\n",
       "  <tbody>\n",
       "    <tr>\n",
       "      <th>count</th>\n",
       "      <td>284807.00</td>\n",
       "      <td>284807.00</td>\n",
       "      <td>284807.00</td>\n",
       "      <td>284807.00</td>\n",
       "      <td>284807.00</td>\n",
       "      <td>284807.00</td>\n",
       "      <td>284807.00</td>\n",
       "      <td>284807.00</td>\n",
       "      <td>284807.00</td>\n",
       "      <td>284807.00</td>\n",
       "      <td>...</td>\n",
       "      <td>284807.00</td>\n",
       "      <td>284807.00</td>\n",
       "      <td>284807.00</td>\n",
       "      <td>284807.00</td>\n",
       "      <td>284807.00</td>\n",
       "      <td>284807.00</td>\n",
       "      <td>284807.00</td>\n",
       "      <td>284807.00</td>\n",
       "      <td>284807.00</td>\n",
       "      <td>284807.00</td>\n",
       "    </tr>\n",
       "    <tr>\n",
       "      <th>mean</th>\n",
       "      <td>94813.86</td>\n",
       "      <td>0.00</td>\n",
       "      <td>0.00</td>\n",
       "      <td>-0.00</td>\n",
       "      <td>0.00</td>\n",
       "      <td>-0.00</td>\n",
       "      <td>0.00</td>\n",
       "      <td>-0.00</td>\n",
       "      <td>-0.00</td>\n",
       "      <td>-0.00</td>\n",
       "      <td>...</td>\n",
       "      <td>0.00</td>\n",
       "      <td>0.00</td>\n",
       "      <td>0.00</td>\n",
       "      <td>0.00</td>\n",
       "      <td>0.00</td>\n",
       "      <td>0.00</td>\n",
       "      <td>-0.00</td>\n",
       "      <td>-0.00</td>\n",
       "      <td>88.35</td>\n",
       "      <td>0.00</td>\n",
       "    </tr>\n",
       "    <tr>\n",
       "      <th>std</th>\n",
       "      <td>47488.15</td>\n",
       "      <td>1.96</td>\n",
       "      <td>1.65</td>\n",
       "      <td>1.52</td>\n",
       "      <td>1.42</td>\n",
       "      <td>1.38</td>\n",
       "      <td>1.33</td>\n",
       "      <td>1.24</td>\n",
       "      <td>1.19</td>\n",
       "      <td>1.10</td>\n",
       "      <td>...</td>\n",
       "      <td>0.73</td>\n",
       "      <td>0.73</td>\n",
       "      <td>0.62</td>\n",
       "      <td>0.61</td>\n",
       "      <td>0.52</td>\n",
       "      <td>0.48</td>\n",
       "      <td>0.40</td>\n",
       "      <td>0.33</td>\n",
       "      <td>250.12</td>\n",
       "      <td>0.04</td>\n",
       "    </tr>\n",
       "    <tr>\n",
       "      <th>min</th>\n",
       "      <td>0.00</td>\n",
       "      <td>-56.41</td>\n",
       "      <td>-72.72</td>\n",
       "      <td>-48.33</td>\n",
       "      <td>-5.68</td>\n",
       "      <td>-113.74</td>\n",
       "      <td>-26.16</td>\n",
       "      <td>-43.56</td>\n",
       "      <td>-73.22</td>\n",
       "      <td>-13.43</td>\n",
       "      <td>...</td>\n",
       "      <td>-34.83</td>\n",
       "      <td>-10.93</td>\n",
       "      <td>-44.81</td>\n",
       "      <td>-2.84</td>\n",
       "      <td>-10.30</td>\n",
       "      <td>-2.60</td>\n",
       "      <td>-22.57</td>\n",
       "      <td>-15.43</td>\n",
       "      <td>0.00</td>\n",
       "      <td>0.00</td>\n",
       "    </tr>\n",
       "    <tr>\n",
       "      <th>25%</th>\n",
       "      <td>54201.50</td>\n",
       "      <td>-0.92</td>\n",
       "      <td>-0.60</td>\n",
       "      <td>-0.89</td>\n",
       "      <td>-0.85</td>\n",
       "      <td>-0.69</td>\n",
       "      <td>-0.77</td>\n",
       "      <td>-0.55</td>\n",
       "      <td>-0.21</td>\n",
       "      <td>-0.64</td>\n",
       "      <td>...</td>\n",
       "      <td>-0.23</td>\n",
       "      <td>-0.54</td>\n",
       "      <td>-0.16</td>\n",
       "      <td>-0.35</td>\n",
       "      <td>-0.32</td>\n",
       "      <td>-0.33</td>\n",
       "      <td>-0.07</td>\n",
       "      <td>-0.05</td>\n",
       "      <td>5.60</td>\n",
       "      <td>0.00</td>\n",
       "    </tr>\n",
       "    <tr>\n",
       "      <th>50%</th>\n",
       "      <td>84692.00</td>\n",
       "      <td>0.02</td>\n",
       "      <td>0.07</td>\n",
       "      <td>0.18</td>\n",
       "      <td>-0.02</td>\n",
       "      <td>-0.05</td>\n",
       "      <td>-0.27</td>\n",
       "      <td>0.04</td>\n",
       "      <td>0.02</td>\n",
       "      <td>-0.05</td>\n",
       "      <td>...</td>\n",
       "      <td>-0.03</td>\n",
       "      <td>0.01</td>\n",
       "      <td>-0.01</td>\n",
       "      <td>0.04</td>\n",
       "      <td>0.02</td>\n",
       "      <td>-0.05</td>\n",
       "      <td>0.00</td>\n",
       "      <td>0.01</td>\n",
       "      <td>22.00</td>\n",
       "      <td>0.00</td>\n",
       "    </tr>\n",
       "    <tr>\n",
       "      <th>75%</th>\n",
       "      <td>139320.50</td>\n",
       "      <td>1.32</td>\n",
       "      <td>0.80</td>\n",
       "      <td>1.03</td>\n",
       "      <td>0.74</td>\n",
       "      <td>0.61</td>\n",
       "      <td>0.40</td>\n",
       "      <td>0.57</td>\n",
       "      <td>0.33</td>\n",
       "      <td>0.60</td>\n",
       "      <td>...</td>\n",
       "      <td>0.19</td>\n",
       "      <td>0.53</td>\n",
       "      <td>0.15</td>\n",
       "      <td>0.44</td>\n",
       "      <td>0.35</td>\n",
       "      <td>0.24</td>\n",
       "      <td>0.09</td>\n",
       "      <td>0.08</td>\n",
       "      <td>77.16</td>\n",
       "      <td>0.00</td>\n",
       "    </tr>\n",
       "    <tr>\n",
       "      <th>max</th>\n",
       "      <td>172792.00</td>\n",
       "      <td>2.45</td>\n",
       "      <td>22.06</td>\n",
       "      <td>9.38</td>\n",
       "      <td>16.88</td>\n",
       "      <td>34.80</td>\n",
       "      <td>73.30</td>\n",
       "      <td>120.59</td>\n",
       "      <td>20.01</td>\n",
       "      <td>15.59</td>\n",
       "      <td>...</td>\n",
       "      <td>27.20</td>\n",
       "      <td>10.50</td>\n",
       "      <td>22.53</td>\n",
       "      <td>4.58</td>\n",
       "      <td>7.52</td>\n",
       "      <td>3.52</td>\n",
       "      <td>31.61</td>\n",
       "      <td>33.85</td>\n",
       "      <td>25691.16</td>\n",
       "      <td>1.00</td>\n",
       "    </tr>\n",
       "  </tbody>\n",
       "</table>\n",
       "<p>8 rows × 31 columns</p>\n",
       "</div>"
      ],
      "text/plain": [
       "            Time         V1         V2         V3         V4         V5  \\\n",
       "count  284807.00  284807.00  284807.00  284807.00  284807.00  284807.00   \n",
       "mean    94813.86       0.00       0.00      -0.00       0.00      -0.00   \n",
       "std     47488.15       1.96       1.65       1.52       1.42       1.38   \n",
       "min         0.00     -56.41     -72.72     -48.33      -5.68    -113.74   \n",
       "25%     54201.50      -0.92      -0.60      -0.89      -0.85      -0.69   \n",
       "50%     84692.00       0.02       0.07       0.18      -0.02      -0.05   \n",
       "75%    139320.50       1.32       0.80       1.03       0.74       0.61   \n",
       "max    172792.00       2.45      22.06       9.38      16.88      34.80   \n",
       "\n",
       "              V6         V7         V8         V9  ...        V21        V22  \\\n",
       "count  284807.00  284807.00  284807.00  284807.00  ...  284807.00  284807.00   \n",
       "mean        0.00      -0.00      -0.00      -0.00  ...       0.00       0.00   \n",
       "std         1.33       1.24       1.19       1.10  ...       0.73       0.73   \n",
       "min       -26.16     -43.56     -73.22     -13.43  ...     -34.83     -10.93   \n",
       "25%        -0.77      -0.55      -0.21      -0.64  ...      -0.23      -0.54   \n",
       "50%        -0.27       0.04       0.02      -0.05  ...      -0.03       0.01   \n",
       "75%         0.40       0.57       0.33       0.60  ...       0.19       0.53   \n",
       "max        73.30     120.59      20.01      15.59  ...      27.20      10.50   \n",
       "\n",
       "             V23        V24        V25        V26        V27        V28  \\\n",
       "count  284807.00  284807.00  284807.00  284807.00  284807.00  284807.00   \n",
       "mean        0.00       0.00       0.00       0.00      -0.00      -0.00   \n",
       "std         0.62       0.61       0.52       0.48       0.40       0.33   \n",
       "min       -44.81      -2.84     -10.30      -2.60     -22.57     -15.43   \n",
       "25%        -0.16      -0.35      -0.32      -0.33      -0.07      -0.05   \n",
       "50%        -0.01       0.04       0.02      -0.05       0.00       0.01   \n",
       "75%         0.15       0.44       0.35       0.24       0.09       0.08   \n",
       "max        22.53       4.58       7.52       3.52      31.61      33.85   \n",
       "\n",
       "          Amount      Class  \n",
       "count  284807.00  284807.00  \n",
       "mean       88.35       0.00  \n",
       "std       250.12       0.04  \n",
       "min         0.00       0.00  \n",
       "25%         5.60       0.00  \n",
       "50%        22.00       0.00  \n",
       "75%        77.16       0.00  \n",
       "max     25691.16       1.00  \n",
       "\n",
       "[8 rows x 31 columns]"
      ]
     },
     "execution_count": 6,
     "metadata": {},
     "output_type": "execute_result"
    }
   ],
   "source": [
    "np.round(data.describe(),2)"
   ]
  },
  {
   "cell_type": "code",
   "execution_count": 7,
   "metadata": {},
   "outputs": [
    {
     "data": {
      "text/plain": [
       "0    99.827251\n",
       "1     0.172749\n",
       "Name: Class, dtype: float64"
      ]
     },
     "execution_count": 7,
     "metadata": {},
     "output_type": "execute_result"
    }
   ],
   "source": [
    "# Fraud transactions - Check target class imbalance\n",
    "data['Class'].value_counts(normalize = True) * 100"
   ]
  },
  {
   "cell_type": "code",
   "execution_count": 8,
   "metadata": {
    "scrolled": false
   },
   "outputs": [
    {
     "data": {
      "text/plain": [
       "<AxesSubplot:xlabel='Class', ylabel='Amount'>"
      ]
     },
     "execution_count": 8,
     "metadata": {},
     "output_type": "execute_result"
    },
    {
     "data": {
      "image/png": "[encoded data removed]",
      "text/plain": [
       "<Figure size 432x288 with 1 Axes>"
      ]
     },
     "metadata": {},
     "output_type": "display_data"
    }
   ],
   "source": [
    "sns.set()\n",
    "sns.scatterplot(x = data['Class'].astype(str), y = data['Amount'])"
   ]
  },
  {
   "cell_type": "markdown",
   "metadata": {},
   "source": [
    "### 1 . Do nothing strategy\n",
    "We will use this as basline to understand the financial impact of fraudulent transactions. As the fraud rate is only 0.17% we ignore them and absorb all the losses arising from these transactions. In this case the losses will amount to actual fraudulent transaction amount. The calculations below show that we end up losing $60k by not acting on fraud transactions."
   ]
  },
  {
   "cell_type": "code",
   "execution_count": 60,
   "metadata": {},
   "outputs": [
    {
     "name": "stdout",
     "output_type": "stream",
     "text": [
      "Valid transactions by value:  25102462.04\n",
      "Revenue on valid transactions:  439293.0\n",
      "Fraudulent transactions by value:  60128.0\n"
     ]
    }
   ],
   "source": [
    "print('Valid transactions by value: ', data[data['Class'] == 0].Amount.sum())\n",
    "print('Revenue on valid transactions: ', np.round(0.0175 * data[data['Class'] == 0].Amount.sum()))\n",
    "print('Fraudulent transactions by value: ', np.round(data[data['Class'] == 1].Amount.sum()))"
   ]
  },
  {
   "cell_type": "markdown",
   "metadata": {},
   "source": [
    "We want to design approaches which will help us to identify these frauds and minimize the financial impact of such transactions. In the sections below we will use ML models to identify fraudulent transactions and then evaluate different model versions basis the resultant cost savings."
   ]
  },
  {
   "cell_type": "markdown",
   "metadata": {},
   "source": [
    "### 2. ML model without handling imbalance\n",
    "In this section we will build models using **Logistic regression** and **Random forest** algorithms for identifying the fraudulent transactions and evaluate performance of both models using both traditional evaluation metrics and financial metrics. It is possible that the model which gives the best statistical measure may not be the best in terms of financial metrics. In this particular case of fraud detection we will select a model which gives highest financial benefit.<br>\n",
    "\n",
    "**a.** Given the class imbalance we will use **F1 score** as statistical evaluation measure. <br> \n",
    "**b.** Assumptions for computing financial metric (Cost of predicition):<br>\n",
    "1. Interchange fee = 1.75% of txn value (Revenue earned by bank & paid by merchant on each trasaction)\n",
    "2. Administrative cost of blocking a transaction = $3\n",
    "**c.** Financial metric -  **cost saving** by using ML model over no action strategy: <br>\n",
    "1. Cost of False negative (CFN) = Entire transaction value (Assuming bank has to give full refund to the customer)\n",
    "2. Cost of True positive (CTP)  = \\\\$3 (Administrative cost)\n",
    "3. Cost of False positive (CFP) = \\\\$3 + 0.3 * 1.75 * txn value (Administrative cost + assuming that only 70% of transactions will happen again post blocking)\n",
    "4. Cost of True negative = 0\n",
    "\n",
    "**Total cost = CFN + CTP + CFP** <br>\n",
    "**% Cost saving = 1 - (Total cost) / (Cost of no action)**"
   ]
  },
  {
   "cell_type": "code",
   "execution_count": 10,
   "metadata": {},
   "outputs": [],
   "source": [
    "#Stratified sampling to split into train and test data\n",
    "X_train, X_test, Y_train, Y_test = train_test_split(data.iloc[:,:-1], data['Class'], train_size = 0.8, stratify = data['Class'], random_state = 10)\n",
    "X_train.drop('Time', axis = 'columns', inplace = True)\n",
    "X_test.drop('Time', axis = 'columns', inplace = True)"
   ]
  },
  {
   "cell_type": "code",
   "execution_count": 11,
   "metadata": {},
   "outputs": [
    {
     "name": "stdout",
     "output_type": "stream",
     "text": [
      "(227845, 29)\n",
      "(56962, 29)\n",
      "(227845,)\n",
      "(56962,)\n",
      "Bad rate in train: 0.173%\n",
      "Bad rate in test: 0.172%\n"
     ]
    }
   ],
   "source": [
    "#Check bad rate in train and test post split\n",
    "print(X_train.shape)\n",
    "print(X_test.shape)\n",
    "print(Y_train.shape)\n",
    "print(Y_test.shape)\n",
    "\n",
    "print(\"Bad rate in train: {:.3%}\".format(Y_train.sum()/len(Y_train)))\n",
    "print(\"Bad rate in test: {:.3%}\".format(Y_test.sum()/len(Y_test)))"
   ]
  },
  {
   "cell_type": "code",
   "execution_count": 12,
   "metadata": {},
   "outputs": [],
   "source": [
    "def model_fit(model, X_train, Y_train, X_test, Y_test):\n",
    "    \n",
    "    result = {}\n",
    "    \n",
    "    cv_result = cross_validate(model, X_train, Y_train, scoring = 'f1')\n",
    "    result['cv_fit_time'] = np.mean(cv_result['fit_time'])\n",
    "    result['cv_f1_score'] = np.mean(cv_result['test_score'])\n",
    "    \n",
    "    model.fit(X_train, Y_train)\n",
    "    \n",
    "    result['f1_test']    = f1_score(Y_test, model.predict(X_test))\n",
    "    result['cost_save_train'] = cost_save(Y_train, model.predict(X_train), X_train['Amount'])\n",
    "    result['cost_save_test']  = cost_save(Y_test, model.predict(X_test), X_test['Amount'])\n",
    "\n",
    "    return result"
   ]
  },
  {
   "cell_type": "code",
   "execution_count": 13,
   "metadata": {},
   "outputs": [],
   "source": [
    "def cost_save(true_labels, pred_labels, amount):\n",
    "    \n",
    "    TP_cost = np.sum(((true_labels == 1) & (pred_labels == 1)) * 3)\n",
    "    FP_cost = np.sum(((true_labels == 0) & (pred_labels == 1)) * (0.3*1.75/100*amount + 3))\n",
    "    FN_cost = np.sum(((true_labels == 1) & (pred_labels == 0)) * amount) \n",
    "    total_cost = TP_cost + FP_cost + FN_cost\n",
    "    \n",
    "    cost_all_neg = (true_labels * amount).sum()\n",
    "    cost_save = np.round(1 - (total_cost/cost_all_neg),2)\n",
    "    \n",
    "    return cost_save"
   ]
  },
  {
   "cell_type": "code",
   "execution_count": 14,
   "metadata": {},
   "outputs": [
    {
     "name": "stdout",
     "output_type": "stream",
     "text": [
      "------------Pipeline------------\n",
      "cross validation f1 score: 0.73\n",
      "f1 score test data: 0.68\n",
      "cost save test data: 37.00%\n",
      "\n",
      "------------RandomForestClassifier------------\n",
      "cross validation f1 score: 0.85\n",
      "f1 score test data: 0.84\n",
      "cost save test data: 76.00%\n",
      "\n"
     ]
    }
   ],
   "source": [
    "ct = make_column_transformer((StandardScaler(), ['Amount']), remainder = 'passthrough')\n",
    "logreg = LogisticRegression(random_state=101)\n",
    "pipe_lr = make_pipeline(ct, logreg)\n",
    "\n",
    "rf = RandomForestClassifier(random_state=101)\n",
    "\n",
    "final_result = {}\n",
    "for model in [pipe_lr,rf]:\n",
    "    clf_name = model.__class__.__name__\n",
    "    final_result[clf_name] = model_fit(model, X_train, Y_train, X_test, Y_test)\n",
    "    print('-'*12 + clf_name + '-'*12)\n",
    "    print('cross validation f1 score: {:0.2f}'.format(final_result[clf_name]['cv_f1_score']))\n",
    "    print('f1 score test data: {:0.2f}'.format(final_result[clf_name]['f1_test']))\n",
    "    print('cost save test data: {:0.2%}\\n'.format(final_result[clf_name]['cost_save_test']))"
   ]
  },
  {
   "cell_type": "markdown",
   "metadata": {},
   "source": [
    "As seen above Random forest performs better in terms of both F1-score and cost savings as compared to Logistic regression."
   ]
  },
  {
   "cell_type": "code",
   "execution_count": 15,
   "metadata": {},
   "outputs": [
    {
     "data": {
      "text/plain": [
       "340"
      ]
     },
     "execution_count": 15,
     "metadata": {},
     "output_type": "execute_result"
    }
   ],
   "source": [
    "import gc\n",
    "gc.collect()"
   ]
  },
  {
   "cell_type": "markdown",
   "metadata": {},
   "source": [
    "### 3. Cost sensitive approach - Bayes mimimum risk classifier\n",
    "The models in the previous section try and minimize misclassification of target labels.However in certain problems it is necessary to allow higher misclassification, in order to minimize the financial impact or overall cost. Also traditional models assume that all the misclassifications carry same costs whereas in reality the costs may differ by type of misclassifiaction as well as across samples (different transaction amounts in this case). This forms the basis of **cost sensitive learning**. <br>\n",
    "**Bayes minimum risk classifier** is one of the ways of applying cost sensitive learning. Here we make the predictions with lowest expected cost i.e. **we classifiy the transaction as fraud if the expected cost of classifying transaction as fraud is less than the expected cost of classifying it as legitimate**. The expected costs are calculated using the same cost framework used in the above section and using the probabilites that are given by the above models."
   ]
  },
  {
   "cell_type": "code",
   "execution_count": 17,
   "metadata": {},
   "outputs": [],
   "source": [
    "def cost_sensitive_BMR(model, X):\n",
    "    p1 = model.predict_proba(X)[:,1]\n",
    "    p0 = model.predict_proba(X)[:,0]\n",
    "    cost_1 = 3 * p1 + (3 + 0.3 * 1.75/100 * X['Amount']) * p0\n",
    "    cost_0 = X['Amount'] * p1\n",
    "    return (cost_1 < cost_0)"
   ]
  },
  {
   "cell_type": "code",
   "execution_count": 67,
   "metadata": {},
   "outputs": [
    {
     "name": "stdout",
     "output_type": "stream",
     "text": [
      "------------Pipeline_BMR------------\n",
      "f1 score train data: 0.51\n",
      "f1 score test data: 0.49\n",
      "cost save train data: 69.00%\n",
      "cost save test data: 77.00%\n",
      "\n",
      "------------RandomForestClassifier_BMR------------\n",
      "f1 score train data: 0.44\n",
      "f1 score test data: 0.22\n",
      "cost save train data: 88.00%\n",
      "cost save test data: 71.00%\n",
      "\n"
     ]
    }
   ],
   "source": [
    "for model in [pipe_lr, rf]:\n",
    "    result = {}\n",
    "    clf_name = model.__class__.__name__ + '_BMR'\n",
    "    \n",
    "    y_pred_train_BMR = cost_sensitive_BMR(model, X_train)\n",
    "    y_pred_test_BMR = cost_sensitive_BMR(model, X_test)\n",
    "    \n",
    "    result['f1_train'] = f1_score(Y_train, y_pred_train_BMR)\n",
    "    result['f1_test'] = f1_score(Y_test, y_pred_test_BMR)\n",
    "    result['cost_save_train'] = cost_save(Y_train, y_pred_train_BMR, X_train['Amount'])\n",
    "    result['cost_save_test'] = cost_save(Y_test, y_pred_test_BMR, X_test['Amount'])\n",
    "    final_result[clf_name] = result\n",
    "\n",
    "    print('-'*12 + clf_name +'-'*12)\n",
    "    print('f1 score train data: {:0.2f}'.format(final_result[clf_name]['f1_train']))\n",
    "    print('f1 score test data: {:0.2f}'.format(final_result[clf_name]['f1_test']))\n",
    "    print('cost save train data: {:0.2%}'.format(final_result[clf_name]['cost_save_train']))\n",
    "    print('cost save test data: {:0.2%}\\n'.format(final_result[clf_name]['cost_save_test']))"
   ]
  },
  {
   "cell_type": "markdown",
   "metadata": {},
   "source": [
    "As seen above the cost save for the logistic regression improves from 37% to 77%, at the expense of a lower f1 score (as we chose to minimize cost while allowing misclassification). However the cost savings of random forest algorithm drop marginally from 76% to 71% using cost sensitive approach."
   ]
  },
  {
   "cell_type": "code",
   "execution_count": 19,
   "metadata": {},
   "outputs": [
    {
     "data": {
      "text/plain": [
       "{'Pipeline': {'cv_fit_time': 1.8425366401672363,\n",
       "  'cv_f1_score': 0.7264187353386061,\n",
       "  'f1_test': 0.6832298136645963,\n",
       "  'cost_save_train': 0.49,\n",
       "  'cost_save_test': 0.37},\n",
       " 'RandomForestClassifier': {'cv_fit_time': 155.82818851470947,\n",
       "  'cv_f1_score': 0.8545211810929448,\n",
       "  'f1_test': 0.8426966292134831,\n",
       "  'cost_save_train': 0.97,\n",
       "  'cost_save_test': 0.76},\n",
       " 'Pipeline_BMR': {'f1_train': 0.5081240768094534,\n",
       "  'f1_test': 0.485207100591716,\n",
       "  'cost_save_train': 0.69,\n",
       "  'cost_save_test': 0.77},\n",
       " 'RandomForestClassifier_BMR': {'f1_train': 0.4368266405484819,\n",
       "  'f1_test': 0.21634615384615383,\n",
       "  'cost_save_train': 0.88,\n",
       "  'cost_save_test': 0.71}}"
      ]
     },
     "execution_count": 19,
     "metadata": {},
     "output_type": "execute_result"
    }
   ],
   "source": [
    "final_result"
   ]
  },
  {
   "cell_type": "markdown",
   "metadata": {},
   "source": [
    "### 4. Threshold optimization approach\n",
    "\n",
    "Another way of dealing with class imbalance in data is to tune the probability threshold that is used to make predictions (default threshold is 0.5). In the section below we define a set of threholds and evaluate the model performance across each of these. We select the threshold which gives us the highest cost savings for making future prerdictions."
   ]
  },
  {
   "cell_type": "code",
   "execution_count": 20,
   "metadata": {},
   "outputs": [],
   "source": [
    "def optimum_threshold(model, X_test, Y_test):\n",
    "    \n",
    "    cs = []\n",
    "    f1 = []\n",
    "\n",
    "    thresholds = np.linspace(0,1,50)\n",
    "    for threshold in thresholds:\n",
    "        pred_labels = model.predict_proba(X_test)[:,1] >= threshold\n",
    "        cs.append(cost_save(Y_test, pred_labels, X_test['Amount']))\n",
    "        f1.append(f1_score(Y_test, pred_labels))\n",
    "\n",
    "    ix = np.argmax(cs)\n",
    "        \n",
    "    return cs[ix], f1[ix], thresholds[ix]"
   ]
  },
  {
   "cell_type": "code",
   "execution_count": 46,
   "metadata": {},
   "outputs": [
    {
     "name": "stdout",
     "output_type": "stream",
     "text": [
      "------------Pipeline_ThreshOpt------------\n",
      "Best cost save 79% at threshold 0.0408 and f1_score of 0.78\n",
      "\n",
      "------------RandomForestClassifier_ThreshOpt------------\n",
      "Best cost save 81% at threshold 0.0408 and f1_score of 0.65\n",
      "\n"
     ]
    }
   ],
   "source": [
    "for model in [pipe_lr, rf]:\n",
    "    result = {}\n",
    "    clf_name = model.__class__.__name__ + '_ThreshOpt'\n",
    "    result['cost_save_test'], result['f1_test'], result['threshold'] = optimum_threshold(model, X_test, Y_test)\n",
    "    final_result[clf_name] = result\n",
    "    \n",
    "    print('-'*12 + clf_name +'-'*12)\n",
    "    print('Best cost save {:.0%} at threshold {:0.4f} and f1_score of {:0.2f}\\n'.format(result['cost_save_test'], t, result['f1_test'])) \n",
    "    "
   ]
  },
  {
   "cell_type": "markdown",
   "metadata": {},
   "source": [
    "As seen above we improve the cost savings for both the classifiers by tuning the probability threhold for making predictions."
   ]
  },
  {
   "cell_type": "code",
   "execution_count": 47,
   "metadata": {},
   "outputs": [
    {
     "data": {
      "text/plain": [
       "{'Pipeline': {'cv_fit_time': 1.8425366401672363,\n",
       "  'cv_f1_score': 0.7264187353386061,\n",
       "  'f1_test': 0.6832298136645963,\n",
       "  'cost_save_train': 0.49,\n",
       "  'cost_save_test': 0.37},\n",
       " 'RandomForestClassifier': {'cv_fit_time': 155.82818851470947,\n",
       "  'cv_f1_score': 0.8545211810929448,\n",
       "  'f1_test': 0.8426966292134831,\n",
       "  'cost_save_train': 0.97,\n",
       "  'cost_save_test': 0.76},\n",
       " 'Pipeline_BMR': {'f1_train': 0.5081240768094534,\n",
       "  'f1_test': 0.485207100591716,\n",
       "  'cost_save_train': 0.69,\n",
       "  'cost_save_test': 0.77},\n",
       " 'RandomForestClassifier_BMR': {'f1_train': 0.4368266405484819,\n",
       "  'f1_test': 0.21634615384615383,\n",
       "  'cost_save_train': 0.88,\n",
       "  'cost_save_test': 0.71},\n",
       " 'Pipeline_ThreshOpt': {'cost_save_test': 0.79,\n",
       "  'f1_test': 0.7766990291262137,\n",
       "  'threshold': 0.04081632653061224},\n",
       " 'RandomForestClassifier_ThreshOpt': {'cost_save_test': 0.81,\n",
       "  'f1_test': 0.6509803921568628,\n",
       "  'threshold': 0.04081632653061224}}"
      ]
     },
     "execution_count": 47,
     "metadata": {},
     "output_type": "execute_result"
    }
   ],
   "source": [
    "final_result"
   ]
  },
  {
   "cell_type": "markdown",
   "metadata": {},
   "source": [
    "### Summary\n",
    "The table below summarizes the f1 score and cost savings for each of the model vesrions that were described in the above sections. Threshold optimization gives the best performance in terms of cost savings for both Logistic regression and Random forests. **The best preformance overall is given by Random forest classfier with threshold optimization where we achieve a cost saving of 81% (with F1 score of 0.65).**"
   ]
  },
  {
   "cell_type": "code",
   "execution_count": 45,
   "metadata": {},
   "outputs": [
    {
     "data": {
      "text/html": [
       "<div>\n",
       "<style scoped>\n",
       "    .dataframe tbody tr th:only-of-type {\n",
       "        vertical-align: middle;\n",
       "    }\n",
       "\n",
       "    .dataframe tbody tr th {\n",
       "        vertical-align: top;\n",
       "    }\n",
       "\n",
       "    .dataframe thead th {\n",
       "        text-align: right;\n",
       "    }\n",
       "</style>\n",
       "<table border=\"1\" class=\"dataframe\">\n",
       "  <thead>\n",
       "    <tr style=\"text-align: right;\">\n",
       "      <th></th>\n",
       "      <th>f1_test</th>\n",
       "      <th>cost_save_test</th>\n",
       "    </tr>\n",
       "  </thead>\n",
       "  <tbody>\n",
       "    <tr>\n",
       "      <th>LogisticReg</th>\n",
       "      <td>0.683230</td>\n",
       "      <td>0.37</td>\n",
       "    </tr>\n",
       "    <tr>\n",
       "      <th>RandomForestClassifier</th>\n",
       "      <td>0.842697</td>\n",
       "      <td>0.76</td>\n",
       "    </tr>\n",
       "    <tr>\n",
       "      <th>LogisticReg_BMR</th>\n",
       "      <td>0.485207</td>\n",
       "      <td>0.77</td>\n",
       "    </tr>\n",
       "    <tr>\n",
       "      <th>RandomForestClassifier_BMR</th>\n",
       "      <td>0.216346</td>\n",
       "      <td>0.71</td>\n",
       "    </tr>\n",
       "    <tr>\n",
       "      <th>LogisticReg_ThreshOpt</th>\n",
       "      <td>0.776699</td>\n",
       "      <td>0.79</td>\n",
       "    </tr>\n",
       "    <tr>\n",
       "      <th>RandomForestClassifier_ThreshOpt</th>\n",
       "      <td>0.650980</td>\n",
       "      <td>0.81</td>\n",
       "    </tr>\n",
       "  </tbody>\n",
       "</table>\n",
       "</div>"
      ],
      "text/plain": [
       "                                   f1_test  cost_save_test\n",
       "LogisticReg                       0.683230            0.37\n",
       "RandomForestClassifier            0.842697            0.76\n",
       "LogisticReg_BMR                   0.485207            0.77\n",
       "RandomForestClassifier_BMR        0.216346            0.71\n",
       "LogisticReg_ThreshOpt             0.776699            0.79\n",
       "RandomForestClassifier_ThreshOpt  0.650980            0.81"
      ]
     },
     "execution_count": 45,
     "metadata": {},
     "output_type": "execute_result"
    }
   ],
   "source": [
    "result_df = pd.DataFrame(final_result).loc[['f1_test','cost_save_test']]\n",
    "result_df.columns = [col.replace('Pipeline', 'LogisticReg') for col in result_df.columns]\n",
    "result_df.T"
   ]
  },
  {
   "cell_type": "code",
   "execution_count": 57,
   "metadata": {
    "scrolled": false
   },
   "outputs": [
    {
     "data": {
      "image/png": "[encoded data removed]",
      "text/plain": [
       "<Figure size 864x360 with 1 Axes>"
      ]
     },
     "metadata": {},
     "output_type": "display_data"
    }
   ],
   "source": [
    "fig, ax = plt.subplots(1,1,figsize=(12,5))\n",
    "df = result_df.T\n",
    "df.reset_index().plot(x = 'index', y = 'cost_save_test', ax=ax, style = '-', marker = 'D', color = 'black')\n",
    "df.reset_index().plot(kind = 'bar', x = 'index', y = 'f1_test', ax=ax)\n",
    "plt.title('Cost save & F1-score for each model', {'fontsize':15})\n",
    "plt.xlabel('Model version',{'fontsize':13})\n",
    "plt.show()"
   ]
  },
  {
   "cell_type": "code",
   "execution_count": 59,
   "metadata": {},
   "outputs": [
    {
     "data": {
      "text/plain": [
       "['final_result.pkl']"
      ]
     },
     "execution_count": 59,
     "metadata": {},
     "output_type": "execute_result"
    }
   ],
   "source": [
    "import joblib\n",
    "joblib.dump(pipe_lr, 'logreg.pkl')\n",
    "joblib.dump(rf, 'rf.pkl')\n",
    "joblib.dump(final_result, 'final_result.pkl')"
   ]
  },
  {
   "cell_type": "code",
   "execution_count": 38,
   "metadata": {},
   "outputs": [],
   "source": []
  },
  {
   "cell_type": "code",
   "execution_count": null,
   "metadata": {},
   "outputs": [],
   "source": []
  }
 ],
 "metadata": {
  "kernelspec": {
   "display_name": "Python 3",
   "language": "python",
   "name": "python3"
  },
  "language_info": {
   "codemirror_mode": {
    "name": "ipython",
    "version": 3
   },
   "file_extension": ".py",
   "mimetype": "text/x-python",
   "name": "python",
   "nbconvert_exporter": "python",
   "pygments_lexer": "ipython3",
   "version": "3.8.5"
  }
 },
 "nbformat": 4,
 "nbformat_minor": 4
}
